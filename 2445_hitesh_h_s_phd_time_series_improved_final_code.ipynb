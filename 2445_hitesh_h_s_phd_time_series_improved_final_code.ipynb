{
 "cells": [
  {
   "cell_type": "markdown",
   "metadata": {},
   "source": [
    "## Forecasting Total Quantity for six months using Time Series "
   ]
  },
  {
   "cell_type": "markdown",
   "metadata": {},
   "source": [
    "#### Importing Tools  "
   ]
  },
  {
   "cell_type": "code",
   "execution_count": 1,
   "metadata": {},
   "outputs": [],
   "source": [
    "import warnings\n",
    "import itertools\n",
    "import pandas as pd\n",
    "import numpy as np\n",
    "import statsmodels.api as sm\n",
    "import matplotlib.pyplot as plt\n",
    "plt.style.use('fivethirtyeight')\n",
    "from math import sqrt"
   ]
  },
  {
   "cell_type": "markdown",
   "metadata": {},
   "source": [
    "### Reading the  ExistingCustomersTransactionsData file"
   ]
  },
  {
   "cell_type": "code",
   "execution_count": 2,
   "metadata": {},
   "outputs": [],
   "source": [
    "timeseries = pd.read_csv('ExistingCustomersTransactionsData.csv')"
   ]
  },
  {
   "cell_type": "markdown",
   "metadata": {},
   "source": [
    "#### The Dataset contains the following attributes \n",
    "\n",
    "\n",
    "1. BillNumber (datatype:object)\n",
    "2. BillDate (datatype:object)\n",
    "3. CustomerID (datatype:object)\n",
    "4. ProductID (datatype:object)\n",
    "5. ProductCategory (datatype:object)(Contains 3 different categories: 'Office Supplies','Furniture','Technology')\n",
    "6. Sales (datatype:float)\n",
    "7. Quantity (datatype:Int)\n",
    "\n",
    "##### The dataset contains 29982 observations and 7 attributes"
   ]
  },
  {
   "cell_type": "markdown",
   "metadata": {},
   "source": [
    "####  Checking the First 5 observations and Last 5 observations of the dataset "
   ]
  },
  {
   "cell_type": "code",
   "execution_count": 3,
   "metadata": {},
   "outputs": [
    {
     "data": {
      "text/html": [
       "<div>\n",
       "<style scoped>\n",
       "    .dataframe tbody tr th:only-of-type {\n",
       "        vertical-align: middle;\n",
       "    }\n",
       "\n",
       "    .dataframe tbody tr th {\n",
       "        vertical-align: top;\n",
       "    }\n",
       "\n",
       "    .dataframe thead th {\n",
       "        text-align: right;\n",
       "    }\n",
       "</style>\n",
       "<table border=\"1\" class=\"dataframe\">\n",
       "  <thead>\n",
       "    <tr style=\"text-align: right;\">\n",
       "      <th></th>\n",
       "      <th>BillNumber</th>\n",
       "      <th>BillDate</th>\n",
       "      <th>CustomerID</th>\n",
       "      <th>ProductID</th>\n",
       "      <th>ProductCategory</th>\n",
       "      <th>Sales</th>\n",
       "      <th>Quantity</th>\n",
       "    </tr>\n",
       "  </thead>\n",
       "  <tbody>\n",
       "    <tr>\n",
       "      <th>0</th>\n",
       "      <td>B32607</td>\n",
       "      <td>2014-01-03</td>\n",
       "      <td>C14797</td>\n",
       "      <td>PR7138</td>\n",
       "      <td>Office Supplies</td>\n",
       "      <td>16.448</td>\n",
       "      <td>2</td>\n",
       "    </tr>\n",
       "    <tr>\n",
       "      <th>1</th>\n",
       "      <td>B37616</td>\n",
       "      <td>2014-01-03</td>\n",
       "      <td>C13917</td>\n",
       "      <td>PR7138</td>\n",
       "      <td>Office Supplies</td>\n",
       "      <td>16.448</td>\n",
       "      <td>2</td>\n",
       "    </tr>\n",
       "    <tr>\n",
       "      <th>2</th>\n",
       "      <td>B42625</td>\n",
       "      <td>2014-01-03</td>\n",
       "      <td>C14353</td>\n",
       "      <td>PR7138</td>\n",
       "      <td>Office Supplies</td>\n",
       "      <td>16.448</td>\n",
       "      <td>2</td>\n",
       "    </tr>\n",
       "    <tr>\n",
       "      <th>3</th>\n",
       "      <td>B32712</td>\n",
       "      <td>2014-01-04</td>\n",
       "      <td>C13351</td>\n",
       "      <td>PR7099</td>\n",
       "      <td>Office Supplies</td>\n",
       "      <td>11.784</td>\n",
       "      <td>3</td>\n",
       "    </tr>\n",
       "    <tr>\n",
       "      <th>4</th>\n",
       "      <td>B32712</td>\n",
       "      <td>2014-01-04</td>\n",
       "      <td>C13351</td>\n",
       "      <td>PR7490</td>\n",
       "      <td>Office Supplies</td>\n",
       "      <td>272.736</td>\n",
       "      <td>3</td>\n",
       "    </tr>\n",
       "  </tbody>\n",
       "</table>\n",
       "</div>"
      ],
      "text/plain": [
       "  BillNumber    BillDate CustomerID ProductID  ProductCategory    Sales  \\\n",
       "0     B32607  2014-01-03     C14797    PR7138  Office Supplies   16.448   \n",
       "1     B37616  2014-01-03     C13917    PR7138  Office Supplies   16.448   \n",
       "2     B42625  2014-01-03     C14353    PR7138  Office Supplies   16.448   \n",
       "3     B32712  2014-01-04     C13351    PR7099  Office Supplies   11.784   \n",
       "4     B32712  2014-01-04     C13351    PR7490  Office Supplies  272.736   \n",
       "\n",
       "   Quantity  \n",
       "0         2  \n",
       "1         2  \n",
       "2         2  \n",
       "3         3  \n",
       "4         3  "
      ]
     },
     "execution_count": 3,
     "metadata": {},
     "output_type": "execute_result"
    }
   ],
   "source": [
    "timeseries.head()"
   ]
  },
  {
   "cell_type": "code",
   "execution_count": 4,
   "metadata": {},
   "outputs": [
    {
     "data": {
      "text/html": [
       "<div>\n",
       "<style scoped>\n",
       "    .dataframe tbody tr th:only-of-type {\n",
       "        vertical-align: middle;\n",
       "    }\n",
       "\n",
       "    .dataframe tbody tr th {\n",
       "        vertical-align: top;\n",
       "    }\n",
       "\n",
       "    .dataframe thead th {\n",
       "        text-align: right;\n",
       "    }\n",
       "</style>\n",
       "<table border=\"1\" class=\"dataframe\">\n",
       "  <thead>\n",
       "    <tr style=\"text-align: right;\">\n",
       "      <th></th>\n",
       "      <th>BillNumber</th>\n",
       "      <th>BillDate</th>\n",
       "      <th>CustomerID</th>\n",
       "      <th>ProductID</th>\n",
       "      <th>ProductCategory</th>\n",
       "      <th>Sales</th>\n",
       "      <th>Quantity</th>\n",
       "    </tr>\n",
       "  </thead>\n",
       "  <tbody>\n",
       "    <tr>\n",
       "      <th>29977</th>\n",
       "      <td>B45666</td>\n",
       "      <td>2017-12-30</td>\n",
       "      <td>C13895</td>\n",
       "      <td>PR6943</td>\n",
       "      <td>Office Supplies</td>\n",
       "      <td>20.720</td>\n",
       "      <td>2</td>\n",
       "    </tr>\n",
       "    <tr>\n",
       "      <th>29978</th>\n",
       "      <td>B46497</td>\n",
       "      <td>2017-12-30</td>\n",
       "      <td>C12586</td>\n",
       "      <td>PR7046</td>\n",
       "      <td>Office Supplies</td>\n",
       "      <td>3.024</td>\n",
       "      <td>3</td>\n",
       "    </tr>\n",
       "    <tr>\n",
       "      <th>29979</th>\n",
       "      <td>B46232</td>\n",
       "      <td>2017-12-30</td>\n",
       "      <td>C14359</td>\n",
       "      <td>PR6143</td>\n",
       "      <td>Furniture</td>\n",
       "      <td>323.136</td>\n",
       "      <td>4</td>\n",
       "    </tr>\n",
       "    <tr>\n",
       "      <th>29980</th>\n",
       "      <td>B46232</td>\n",
       "      <td>2017-12-30</td>\n",
       "      <td>C14359</td>\n",
       "      <td>PR7962</td>\n",
       "      <td>Technology</td>\n",
       "      <td>90.930</td>\n",
       "      <td>7</td>\n",
       "    </tr>\n",
       "    <tr>\n",
       "      <th>29981</th>\n",
       "      <td>B46232</td>\n",
       "      <td>2017-12-30</td>\n",
       "      <td>C14359</td>\n",
       "      <td>PR6896</td>\n",
       "      <td>Office Supplies</td>\n",
       "      <td>52.776</td>\n",
       "      <td>3</td>\n",
       "    </tr>\n",
       "  </tbody>\n",
       "</table>\n",
       "</div>"
      ],
      "text/plain": [
       "      BillNumber    BillDate CustomerID ProductID  ProductCategory    Sales  \\\n",
       "29977     B45666  2017-12-30     C13895    PR6943  Office Supplies   20.720   \n",
       "29978     B46497  2017-12-30     C12586    PR7046  Office Supplies    3.024   \n",
       "29979     B46232  2017-12-30     C14359    PR6143        Furniture  323.136   \n",
       "29980     B46232  2017-12-30     C14359    PR7962       Technology   90.930   \n",
       "29981     B46232  2017-12-30     C14359    PR6896  Office Supplies   52.776   \n",
       "\n",
       "       Quantity  \n",
       "29977         2  \n",
       "29978         3  \n",
       "29979         4  \n",
       "29980         7  \n",
       "29981         3  "
      ]
     },
     "execution_count": 4,
     "metadata": {},
     "output_type": "execute_result"
    }
   ],
   "source": [
    "timeseries.tail()"
   ]
  },
  {
   "cell_type": "markdown",
   "metadata": {},
   "source": [
    "#### Getting the summary of the dataset "
   ]
  },
  {
   "cell_type": "code",
   "execution_count": 5,
   "metadata": {
    "scrolled": false
   },
   "outputs": [
    {
     "data": {
      "text/html": [
       "<div>\n",
       "<style scoped>\n",
       "    .dataframe tbody tr th:only-of-type {\n",
       "        vertical-align: middle;\n",
       "    }\n",
       "\n",
       "    .dataframe tbody tr th {\n",
       "        vertical-align: top;\n",
       "    }\n",
       "\n",
       "    .dataframe thead th {\n",
       "        text-align: right;\n",
       "    }\n",
       "</style>\n",
       "<table border=\"1\" class=\"dataframe\">\n",
       "  <thead>\n",
       "    <tr style=\"text-align: right;\">\n",
       "      <th></th>\n",
       "      <th>Sales</th>\n",
       "      <th>Quantity</th>\n",
       "    </tr>\n",
       "  </thead>\n",
       "  <tbody>\n",
       "    <tr>\n",
       "      <th>count</th>\n",
       "      <td>29982.000000</td>\n",
       "      <td>29982.000000</td>\n",
       "    </tr>\n",
       "    <tr>\n",
       "      <th>mean</th>\n",
       "      <td>229.858001</td>\n",
       "      <td>3.789574</td>\n",
       "    </tr>\n",
       "    <tr>\n",
       "      <th>std</th>\n",
       "      <td>623.224312</td>\n",
       "      <td>2.225035</td>\n",
       "    </tr>\n",
       "    <tr>\n",
       "      <th>min</th>\n",
       "      <td>0.444000</td>\n",
       "      <td>1.000000</td>\n",
       "    </tr>\n",
       "    <tr>\n",
       "      <th>25%</th>\n",
       "      <td>17.280000</td>\n",
       "      <td>2.000000</td>\n",
       "    </tr>\n",
       "    <tr>\n",
       "      <th>50%</th>\n",
       "      <td>54.490000</td>\n",
       "      <td>3.000000</td>\n",
       "    </tr>\n",
       "    <tr>\n",
       "      <th>75%</th>\n",
       "      <td>209.940000</td>\n",
       "      <td>5.000000</td>\n",
       "    </tr>\n",
       "    <tr>\n",
       "      <th>max</th>\n",
       "      <td>22638.480000</td>\n",
       "      <td>14.000000</td>\n",
       "    </tr>\n",
       "  </tbody>\n",
       "</table>\n",
       "</div>"
      ],
      "text/plain": [
       "              Sales      Quantity\n",
       "count  29982.000000  29982.000000\n",
       "mean     229.858001      3.789574\n",
       "std      623.224312      2.225035\n",
       "min        0.444000      1.000000\n",
       "25%       17.280000      2.000000\n",
       "50%       54.490000      3.000000\n",
       "75%      209.940000      5.000000\n",
       "max    22638.480000     14.000000"
      ]
     },
     "execution_count": 5,
     "metadata": {},
     "output_type": "execute_result"
    }
   ],
   "source": [
    "timeseries.describe()"
   ]
  },
  {
   "cell_type": "markdown",
   "metadata": {},
   "source": [
    "#### Checking the Shape of the dataset "
   ]
  },
  {
   "cell_type": "code",
   "execution_count": 6,
   "metadata": {
    "scrolled": true
   },
   "outputs": [
    {
     "data": {
      "text/plain": [
       "(29982, 7)"
      ]
     },
     "execution_count": 6,
     "metadata": {},
     "output_type": "execute_result"
    }
   ],
   "source": [
    "timeseries.shape"
   ]
  },
  {
   "cell_type": "markdown",
   "metadata": {},
   "source": [
    "#### Getting the Column names "
   ]
  },
  {
   "cell_type": "code",
   "execution_count": 7,
   "metadata": {
    "scrolled": true
   },
   "outputs": [
    {
     "data": {
      "text/plain": [
       "Index(['BillNumber', 'BillDate', 'CustomerID', 'ProductID', 'ProductCategory',\n",
       "       'Sales', 'Quantity'],\n",
       "      dtype='object')"
      ]
     },
     "execution_count": 7,
     "metadata": {},
     "output_type": "execute_result"
    }
   ],
   "source": [
    "timeseries.columns"
   ]
  },
  {
   "cell_type": "markdown",
   "metadata": {},
   "source": [
    "#### Checking the data type "
   ]
  },
  {
   "cell_type": "code",
   "execution_count": 8,
   "metadata": {
    "scrolled": false
   },
   "outputs": [
    {
     "data": {
      "text/plain": [
       "BillNumber          object\n",
       "BillDate            object\n",
       "CustomerID          object\n",
       "ProductID           object\n",
       "ProductCategory     object\n",
       "Sales              float64\n",
       "Quantity             int64\n",
       "dtype: object"
      ]
     },
     "execution_count": 8,
     "metadata": {},
     "output_type": "execute_result"
    }
   ],
   "source": [
    "timeseries.dtypes"
   ]
  },
  {
   "cell_type": "code",
   "execution_count": 9,
   "metadata": {},
   "outputs": [
    {
     "name": "stdout",
     "output_type": "stream",
     "text": [
      "<class 'pandas.core.frame.DataFrame'>\n",
      "RangeIndex: 29982 entries, 0 to 29981\n",
      "Data columns (total 7 columns):\n",
      "BillNumber         29982 non-null object\n",
      "BillDate           29982 non-null object\n",
      "CustomerID         29982 non-null object\n",
      "ProductID          29982 non-null object\n",
      "ProductCategory    29982 non-null object\n",
      "Sales              29982 non-null float64\n",
      "Quantity           29982 non-null int64\n",
      "dtypes: float64(1), int64(1), object(5)\n",
      "memory usage: 1.6+ MB\n"
     ]
    }
   ],
   "source": [
    "timeseries.info()"
   ]
  },
  {
   "cell_type": "markdown",
   "metadata": {},
   "source": [
    "#### Checking the  count of each category present in the Product category column"
   ]
  },
  {
   "cell_type": "code",
   "execution_count": 10,
   "metadata": {
    "scrolled": false
   },
   "outputs": [
    {
     "data": {
      "text/plain": [
       "Office Supplies    18078\n",
       "Furniture           6363\n",
       "Technology          5541\n",
       "Name: ProductCategory, dtype: int64"
      ]
     },
     "execution_count": 10,
     "metadata": {},
     "output_type": "execute_result"
    }
   ],
   "source": [
    "timeseries.ProductCategory.value_counts()"
   ]
  },
  {
   "cell_type": "markdown",
   "metadata": {},
   "source": [
    "#### Checking for the unique values in each attribute "
   ]
  },
  {
   "cell_type": "code",
   "execution_count": 11,
   "metadata": {},
   "outputs": [
    {
     "name": "stdout",
     "output_type": "stream",
     "text": [
      "BillNumber\n",
      "15027\n",
      "BillDate\n",
      "1237\n",
      "CustomerID\n",
      "2379\n",
      "ProductID\n",
      "1862\n",
      "ProductCategory\n",
      "3\n",
      "Sales\n",
      "5825\n",
      "Quantity\n",
      "14\n"
     ]
    }
   ],
   "source": [
    "for i in timeseries.columns:\n",
    "    unique_value = timeseries[i].nunique()\n",
    "    print(i)\n",
    "    print(unique_value)"
   ]
  },
  {
   "cell_type": "markdown",
   "metadata": {},
   "source": [
    "#### Converting the 'BillDate' attribute from object to datetime format "
   ]
  },
  {
   "cell_type": "code",
   "execution_count": 12,
   "metadata": {},
   "outputs": [],
   "source": [
    "timeseries['BillDate'] = pd.to_datetime(timeseries['BillDate'])"
   ]
  },
  {
   "cell_type": "markdown",
   "metadata": {},
   "source": [
    "#### After converting the 'BillDate' column into datetime format "
   ]
  },
  {
   "cell_type": "code",
   "execution_count": 13,
   "metadata": {},
   "outputs": [
    {
     "data": {
      "text/plain": [
       "BillNumber                 object\n",
       "BillDate           datetime64[ns]\n",
       "CustomerID                 object\n",
       "ProductID                  object\n",
       "ProductCategory            object\n",
       "Sales                     float64\n",
       "Quantity                    int64\n",
       "dtype: object"
      ]
     },
     "execution_count": 13,
     "metadata": {},
     "output_type": "execute_result"
    }
   ],
   "source": [
    "timeseries.dtypes"
   ]
  },
  {
   "cell_type": "markdown",
   "metadata": {},
   "source": [
    "#### Checking for the Null values  "
   ]
  },
  {
   "cell_type": "code",
   "execution_count": 14,
   "metadata": {
    "scrolled": true
   },
   "outputs": [
    {
     "data": {
      "text/plain": [
       "BillNumber         0\n",
       "BillDate           0\n",
       "CustomerID         0\n",
       "ProductID          0\n",
       "ProductCategory    0\n",
       "Sales              0\n",
       "Quantity           0\n",
       "dtype: int64"
      ]
     },
     "execution_count": 14,
     "metadata": {},
     "output_type": "execute_result"
    }
   ],
   "source": [
    "timeseries.isnull().sum()"
   ]
  },
  {
   "cell_type": "markdown",
   "metadata": {},
   "source": [
    "#### Since we had to Forecast for Furniture for 6 months, we need to extract Furniture from productcategory attribute and create a dataframe"
   ]
  },
  {
   "cell_type": "code",
   "execution_count": 15,
   "metadata": {},
   "outputs": [],
   "source": [
    "furniture = timeseries.loc[timeseries['ProductCategory'] == 'Furniture']"
   ]
  },
  {
   "cell_type": "markdown",
   "metadata": {},
   "source": [
    "#### Checking for the head of the data "
   ]
  },
  {
   "cell_type": "code",
   "execution_count": 16,
   "metadata": {
    "scrolled": false
   },
   "outputs": [
    {
     "data": {
      "text/html": [
       "<div>\n",
       "<style scoped>\n",
       "    .dataframe tbody tr th:only-of-type {\n",
       "        vertical-align: middle;\n",
       "    }\n",
       "\n",
       "    .dataframe tbody tr th {\n",
       "        vertical-align: top;\n",
       "    }\n",
       "\n",
       "    .dataframe thead th {\n",
       "        text-align: right;\n",
       "    }\n",
       "</style>\n",
       "<table border=\"1\" class=\"dataframe\">\n",
       "  <thead>\n",
       "    <tr style=\"text-align: right;\">\n",
       "      <th></th>\n",
       "      <th>BillNumber</th>\n",
       "      <th>BillDate</th>\n",
       "      <th>CustomerID</th>\n",
       "      <th>ProductID</th>\n",
       "      <th>ProductCategory</th>\n",
       "      <th>Sales</th>\n",
       "      <th>Quantity</th>\n",
       "    </tr>\n",
       "  </thead>\n",
       "  <tbody>\n",
       "    <tr>\n",
       "      <th>17</th>\n",
       "      <td>B33327</td>\n",
       "      <td>2014-01-06</td>\n",
       "      <td>C13559</td>\n",
       "      <td>PR6230</td>\n",
       "      <td>Furniture</td>\n",
       "      <td>2573.820</td>\n",
       "      <td>9</td>\n",
       "    </tr>\n",
       "    <tr>\n",
       "      <th>26</th>\n",
       "      <td>B38336</td>\n",
       "      <td>2014-01-06</td>\n",
       "      <td>C14305</td>\n",
       "      <td>PR6230</td>\n",
       "      <td>Furniture</td>\n",
       "      <td>2573.820</td>\n",
       "      <td>9</td>\n",
       "    </tr>\n",
       "    <tr>\n",
       "      <th>35</th>\n",
       "      <td>B43345</td>\n",
       "      <td>2014-01-06</td>\n",
       "      <td>C14916</td>\n",
       "      <td>PR6230</td>\n",
       "      <td>Furniture</td>\n",
       "      <td>2573.820</td>\n",
       "      <td>9</td>\n",
       "    </tr>\n",
       "    <tr>\n",
       "      <th>42</th>\n",
       "      <td>B32629</td>\n",
       "      <td>2014-01-07</td>\n",
       "      <td>C14300</td>\n",
       "      <td>PR6423</td>\n",
       "      <td>Furniture</td>\n",
       "      <td>76.728</td>\n",
       "      <td>3</td>\n",
       "    </tr>\n",
       "    <tr>\n",
       "      <th>44</th>\n",
       "      <td>B37638</td>\n",
       "      <td>2014-01-07</td>\n",
       "      <td>C13236</td>\n",
       "      <td>PR6423</td>\n",
       "      <td>Furniture</td>\n",
       "      <td>76.728</td>\n",
       "      <td>3</td>\n",
       "    </tr>\n",
       "  </tbody>\n",
       "</table>\n",
       "</div>"
      ],
      "text/plain": [
       "   BillNumber   BillDate CustomerID ProductID ProductCategory     Sales  \\\n",
       "17     B33327 2014-01-06     C13559    PR6230       Furniture  2573.820   \n",
       "26     B38336 2014-01-06     C14305    PR6230       Furniture  2573.820   \n",
       "35     B43345 2014-01-06     C14916    PR6230       Furniture  2573.820   \n",
       "42     B32629 2014-01-07     C14300    PR6423       Furniture    76.728   \n",
       "44     B37638 2014-01-07     C13236    PR6423       Furniture    76.728   \n",
       "\n",
       "    Quantity  \n",
       "17         9  \n",
       "26         9  \n",
       "35         9  \n",
       "42         3  \n",
       "44         3  "
      ]
     },
     "execution_count": 16,
     "metadata": {},
     "output_type": "execute_result"
    }
   ],
   "source": [
    "furniture.head()"
   ]
  },
  {
   "cell_type": "markdown",
   "metadata": {},
   "source": [
    "#### Columns to be dropped"
   ]
  },
  {
   "cell_type": "code",
   "execution_count": 17,
   "metadata": {},
   "outputs": [],
   "source": [
    "columns_to_drop = ['BillNumber','CustomerID','ProductID','ProductCategory','Sales']"
   ]
  },
  {
   "cell_type": "markdown",
   "metadata": {},
   "source": [
    "#### Dropping  the attributes, which cannot be used to forecast Total Quantity "
   ]
  },
  {
   "cell_type": "code",
   "execution_count": 18,
   "metadata": {},
   "outputs": [],
   "source": [
    "furniture = furniture.drop(columns_to_drop,axis=1)"
   ]
  },
  {
   "cell_type": "markdown",
   "metadata": {},
   "source": [
    "#### checking the head of the dataset after dropping the columns "
   ]
  },
  {
   "cell_type": "code",
   "execution_count": 19,
   "metadata": {
    "scrolled": false
   },
   "outputs": [
    {
     "data": {
      "text/html": [
       "<div>\n",
       "<style scoped>\n",
       "    .dataframe tbody tr th:only-of-type {\n",
       "        vertical-align: middle;\n",
       "    }\n",
       "\n",
       "    .dataframe tbody tr th {\n",
       "        vertical-align: top;\n",
       "    }\n",
       "\n",
       "    .dataframe thead th {\n",
       "        text-align: right;\n",
       "    }\n",
       "</style>\n",
       "<table border=\"1\" class=\"dataframe\">\n",
       "  <thead>\n",
       "    <tr style=\"text-align: right;\">\n",
       "      <th></th>\n",
       "      <th>BillDate</th>\n",
       "      <th>Quantity</th>\n",
       "    </tr>\n",
       "  </thead>\n",
       "  <tbody>\n",
       "    <tr>\n",
       "      <th>17</th>\n",
       "      <td>2014-01-06</td>\n",
       "      <td>9</td>\n",
       "    </tr>\n",
       "    <tr>\n",
       "      <th>26</th>\n",
       "      <td>2014-01-06</td>\n",
       "      <td>9</td>\n",
       "    </tr>\n",
       "    <tr>\n",
       "      <th>35</th>\n",
       "      <td>2014-01-06</td>\n",
       "      <td>9</td>\n",
       "    </tr>\n",
       "    <tr>\n",
       "      <th>42</th>\n",
       "      <td>2014-01-07</td>\n",
       "      <td>3</td>\n",
       "    </tr>\n",
       "    <tr>\n",
       "      <th>44</th>\n",
       "      <td>2014-01-07</td>\n",
       "      <td>3</td>\n",
       "    </tr>\n",
       "  </tbody>\n",
       "</table>\n",
       "</div>"
      ],
      "text/plain": [
       "     BillDate  Quantity\n",
       "17 2014-01-06         9\n",
       "26 2014-01-06         9\n",
       "35 2014-01-06         9\n",
       "42 2014-01-07         3\n",
       "44 2014-01-07         3"
      ]
     },
     "execution_count": 19,
     "metadata": {},
     "output_type": "execute_result"
    }
   ],
   "source": [
    "furniture.head()"
   ]
  },
  {
   "cell_type": "markdown",
   "metadata": {},
   "source": [
    "#### taking the sum of the Quantity and grouping it by billdate "
   ]
  },
  {
   "cell_type": "code",
   "execution_count": 20,
   "metadata": {},
   "outputs": [],
   "source": [
    "furniture = furniture.groupby('BillDate')['Quantity'].sum().reset_index()"
   ]
  },
  {
   "cell_type": "markdown",
   "metadata": {},
   "source": [
    "#### Indexing the Billdate "
   ]
  },
  {
   "cell_type": "code",
   "execution_count": 21,
   "metadata": {
    "scrolled": true
   },
   "outputs": [
    {
     "data": {
      "text/plain": [
       "DatetimeIndex(['2014-01-06', '2014-01-07', '2014-01-10', '2014-01-11',\n",
       "               '2014-01-13', '2014-01-14', '2014-01-16', '2014-01-19',\n",
       "               '2014-01-20', '2014-01-21',\n",
       "               ...\n",
       "               '2017-12-18', '2017-12-19', '2017-12-21', '2017-12-22',\n",
       "               '2017-12-23', '2017-12-24', '2017-12-25', '2017-12-28',\n",
       "               '2017-12-29', '2017-12-30'],\n",
       "              dtype='datetime64[ns]', name='BillDate', length=889, freq=None)"
      ]
     },
     "execution_count": 21,
     "metadata": {},
     "output_type": "execute_result"
    }
   ],
   "source": [
    "furniture = furniture.set_index('BillDate')\n",
    "furniture.index"
   ]
  },
  {
   "cell_type": "markdown",
   "metadata": {},
   "source": [
    "#### Aggegrating the Quantity month wise, as we have to forecast month wise "
   ]
  },
  {
   "cell_type": "code",
   "execution_count": 22,
   "metadata": {},
   "outputs": [],
   "source": [
    "Furniture = furniture['Quantity'].resample('MS').sum()"
   ]
  },
  {
   "cell_type": "markdown",
   "metadata": {},
   "source": [
    "#### Checking if the quantity is aggregated month wise "
   ]
  },
  {
   "cell_type": "code",
   "execution_count": 23,
   "metadata": {
    "scrolled": true
   },
   "outputs": [
    {
     "data": {
      "text/plain": [
       "BillDate\n",
       "2014-01-01     210\n",
       "2014-02-01      69\n",
       "2014-03-01     393\n",
       "2014-04-01     243\n",
       "2014-05-01     291\n",
       "2014-06-01     366\n",
       "2014-07-01     342\n",
       "2014-08-01     321\n",
       "2014-09-01     624\n",
       "2014-10-01     390\n",
       "2014-11-01     684\n",
       "2014-12-01     936\n",
       "2015-01-01     264\n",
       "2015-02-01     135\n",
       "2015-03-01     333\n",
       "2015-04-01     321\n",
       "2015-05-01     378\n",
       "2015-06-01     336\n",
       "2015-07-01     486\n",
       "2015-08-01     336\n",
       "2015-09-01     615\n",
       "2015-10-01     420\n",
       "2015-11-01     930\n",
       "2015-12-01     771\n",
       "2016-01-01     303\n",
       "2016-02-01     207\n",
       "2016-03-01     486\n",
       "2016-04-01     438\n",
       "2016-05-01     543\n",
       "2016-06-01     384\n",
       "2016-07-01     477\n",
       "2016-08-01     345\n",
       "2016-09-01     852\n",
       "2016-10-01     561\n",
       "2016-11-01     954\n",
       "2016-12-01    1029\n",
       "2017-01-01     258\n",
       "2017-02-01     213\n",
       "2017-03-01     369\n",
       "2017-04-01     525\n",
       "2017-05-01     552\n",
       "2017-06-01     528\n",
       "2017-07-01     549\n",
       "2017-08-01     381\n",
       "2017-09-01     906\n",
       "2017-10-01     756\n",
       "2017-11-01    1092\n",
       "2017-12-01    1182\n",
       "Freq: MS, Name: Quantity, dtype: int64"
      ]
     },
     "execution_count": 23,
     "metadata": {},
     "output_type": "execute_result"
    }
   ],
   "source": [
    "Furniture"
   ]
  },
  {
   "cell_type": "markdown",
   "metadata": {},
   "source": [
    "#### Displaying month wise "
   ]
  },
  {
   "cell_type": "code",
   "execution_count": 24,
   "metadata": {},
   "outputs": [
    {
     "data": {
      "text/plain": [
       "BillDate\n",
       "2014-01-01    210\n",
       "2014-02-01     69\n",
       "2014-03-01    393\n",
       "2014-04-01    243\n",
       "2014-05-01    291\n",
       "2014-06-01    366\n",
       "2014-07-01    342\n",
       "2014-08-01    321\n",
       "2014-09-01    624\n",
       "2014-10-01    390\n",
       "2014-11-01    684\n",
       "2014-12-01    936\n",
       "Freq: MS, Name: Quantity, dtype: int64"
      ]
     },
     "execution_count": 24,
     "metadata": {},
     "output_type": "execute_result"
    }
   ],
   "source": [
    "Furniture['2014']"
   ]
  },
  {
   "cell_type": "code",
   "execution_count": 25,
   "metadata": {},
   "outputs": [
    {
     "data": {
      "text/plain": [
       "BillDate\n",
       "2015-01-01    264\n",
       "2015-02-01    135\n",
       "2015-03-01    333\n",
       "2015-04-01    321\n",
       "2015-05-01    378\n",
       "2015-06-01    336\n",
       "2015-07-01    486\n",
       "2015-08-01    336\n",
       "2015-09-01    615\n",
       "2015-10-01    420\n",
       "2015-11-01    930\n",
       "2015-12-01    771\n",
       "Freq: MS, Name: Quantity, dtype: int64"
      ]
     },
     "execution_count": 25,
     "metadata": {},
     "output_type": "execute_result"
    }
   ],
   "source": [
    "Furniture['2015']"
   ]
  },
  {
   "cell_type": "code",
   "execution_count": 26,
   "metadata": {},
   "outputs": [
    {
     "data": {
      "text/plain": [
       "BillDate\n",
       "2016-01-01     303\n",
       "2016-02-01     207\n",
       "2016-03-01     486\n",
       "2016-04-01     438\n",
       "2016-05-01     543\n",
       "2016-06-01     384\n",
       "2016-07-01     477\n",
       "2016-08-01     345\n",
       "2016-09-01     852\n",
       "2016-10-01     561\n",
       "2016-11-01     954\n",
       "2016-12-01    1029\n",
       "Freq: MS, Name: Quantity, dtype: int64"
      ]
     },
     "execution_count": 26,
     "metadata": {},
     "output_type": "execute_result"
    }
   ],
   "source": [
    "Furniture['2016']"
   ]
  },
  {
   "cell_type": "code",
   "execution_count": 27,
   "metadata": {},
   "outputs": [
    {
     "data": {
      "text/plain": [
       "BillDate\n",
       "2017-01-01     258\n",
       "2017-02-01     213\n",
       "2017-03-01     369\n",
       "2017-04-01     525\n",
       "2017-05-01     552\n",
       "2017-06-01     528\n",
       "2017-07-01     549\n",
       "2017-08-01     381\n",
       "2017-09-01     906\n",
       "2017-10-01     756\n",
       "2017-11-01    1092\n",
       "2017-12-01    1182\n",
       "Freq: MS, Name: Quantity, dtype: int64"
      ]
     },
     "execution_count": 27,
     "metadata": {},
     "output_type": "execute_result"
    }
   ],
   "source": [
    "Furniture['2017']"
   ]
  },
  {
   "cell_type": "markdown",
   "metadata": {},
   "source": [
    "#### Visualizing the data in time series format "
   ]
  },
  {
   "cell_type": "code",
   "execution_count": 28,
   "metadata": {},
   "outputs": [
    {
     "data": {
      "image/png": "[encoded data removed]",
      "text/plain": [
       "<Figure size 1080x432 with 1 Axes>"
      ]
     },
     "metadata": {
      "needs_background": "light"
     },
     "output_type": "display_data"
    }
   ],
   "source": [
    "Furniture.plot(figsize=(15, 6))\n",
    "plt.show()"
   ]
  },
  {
   "cell_type": "markdown",
   "metadata": {},
   "source": [
    "#### Decomposing in order to understand the seasonality, trend and randomness "
   ]
  },
  {
   "cell_type": "code",
   "execution_count": 29,
   "metadata": {},
   "outputs": [
    {
     "data": {
      "image/png": "[encoded data removed]",
      "text/plain": [
       "<Figure size 1296x576 with 4 Axes>"
      ]
     },
     "metadata": {
      "needs_background": "light"
     },
     "output_type": "display_data"
    }
   ],
   "source": [
    "from pylab import rcParams\n",
    "rcParams['figure.figsize'] = 18, 8\n",
    "decomposition = sm.tsa.seasonal_decompose(Furniture, model='additive')\n",
    "fig = decomposition.plot()\n",
    "plt.show()"
   ]
  },
  {
   "cell_type": "markdown",
   "metadata": {},
   "source": [
    "#### Parameter Selection for the ARIMA Time Series Model "
   ]
  },
  {
   "cell_type": "code",
   "execution_count": 30,
   "metadata": {},
   "outputs": [
    {
     "name": "stdout",
     "output_type": "stream",
     "text": [
      "Examples of parameter combinations for Seasonal ARIMA...\n",
      "SARIMAX: (0, 0, 1) x (0, 0, 0, 12)\n",
      "SARIMAX: (0, 0, 1) x (0, 0, 1, 6)\n",
      "SARIMAX: (0, 1, 0) x (0, 0, 1, 12)\n",
      "SARIMAX: (0, 1, 0) x (0, 1, 0, 6)\n"
     ]
    }
   ],
   "source": [
    "p = d = q = range(0, 2)\n",
    "S = [6,12]\n",
    "pdq = list(itertools.product(p, d, q))\n",
    "seasonal_pdq = [(x[0], x[1], x[2], x[3]) for x in list(itertools.product(p, d, q,S))]\n",
    "print('Examples of parameter combinations for Seasonal ARIMA...')\n",
    "print('SARIMAX: {} x {}'.format(pdq[1], seasonal_pdq[1]))\n",
    "print('SARIMAX: {} x {}'.format(pdq[1], seasonal_pdq[2]))\n",
    "print('SARIMAX: {} x {}'.format(pdq[2], seasonal_pdq[3]))\n",
    "print('SARIMAX: {} x {}'.format(pdq[2], seasonal_pdq[4]))"
   ]
  },
  {
   "cell_type": "markdown",
   "metadata": {},
   "source": [
    "#### Grid search to get the optimal p,d,q  and P,D,Q,S values "
   ]
  },
  {
   "cell_type": "code",
   "execution_count": 31,
   "metadata": {},
   "outputs": [
    {
     "name": "stdout",
     "output_type": "stream",
     "text": [
      "ARIMA(0, 0, 0)x(0, 0, 0, 6)12 - AIC:732.1449709528243\n",
      "ARIMA(0, 0, 0)x(0, 0, 0, 12)12 - AIC:732.1449709528243\n",
      "ARIMA(0, 0, 0)x(0, 0, 1, 6)12 - AIC:633.1393817363614\n",
      "ARIMA(0, 0, 0)x(0, 0, 1, 12)12 - AIC:1522.357888733915\n",
      "ARIMA(0, 0, 0)x(0, 1, 0, 6)12 - AIC:597.7834393664335\n",
      "ARIMA(0, 0, 0)x(0, 1, 0, 12)12 - AIC:434.9522910290901\n",
      "ARIMA(0, 0, 0)x(0, 1, 1, 6)12 - AIC:488.474444704321\n",
      "ARIMA(0, 0, 0)x(1, 0, 0, 6)12 - AIC:613.2640245188283\n",
      "ARIMA(0, 0, 0)x(1, 0, 0, 12)12 - AIC:434.8270071743497\n",
      "ARIMA(0, 0, 0)x(1, 0, 1, 6)12 - AIC:565.8426568142402\n",
      "ARIMA(0, 0, 0)x(1, 0, 1, 12)12 - AIC:1560.6493477923161\n",
      "ARIMA(0, 0, 0)x(1, 1, 0, 6)12 - AIC:448.511111401598\n",
      "ARIMA(0, 0, 0)x(1, 1, 0, 12)12 - AIC:301.3945496419233\n",
      "ARIMA(0, 0, 0)x(1, 1, 1, 6)12 - AIC:429.34210182228554\n",
      "ARIMA(0, 0, 1)x(0, 0, 0, 6)12 - AIC:687.160388942162\n",
      "ARIMA(0, 0, 1)x(0, 0, 0, 12)12 - AIC:687.160388942162\n",
      "ARIMA(0, 0, 1)x(0, 0, 1, 6)12 - AIC:597.2850417573811\n",
      "ARIMA(0, 0, 1)x(0, 0, 1, 12)12 - AIC:2740.021913150527\n",
      "ARIMA(0, 0, 1)x(0, 1, 0, 6)12 - AIC:578.078282439842\n",
      "ARIMA(0, 0, 1)x(0, 1, 0, 12)12 - AIC:424.06509546519936\n",
      "ARIMA(0, 0, 1)x(0, 1, 1, 6)12 - AIC:469.6907794046239\n",
      "ARIMA(0, 0, 1)x(1, 0, 0, 6)12 - AIC:606.0415375750804\n",
      "ARIMA(0, 0, 1)x(1, 0, 0, 12)12 - AIC:434.2362352574217\n",
      "ARIMA(0, 0, 1)x(1, 0, 1, 6)12 - AIC:548.980759087143\n",
      "ARIMA(0, 0, 1)x(1, 0, 1, 12)12 - AIC:2481.9879626303045\n",
      "ARIMA(0, 0, 1)x(1, 1, 0, 6)12 - AIC:449.19878769104923\n",
      "ARIMA(0, 0, 1)x(1, 1, 0, 12)12 - AIC:301.54252367256964\n",
      "ARIMA(0, 0, 1)x(1, 1, 1, 6)12 - AIC:419.07615722425146\n",
      "ARIMA(0, 1, 0)x(0, 0, 0, 6)12 - AIC:647.6678896496314\n",
      "ARIMA(0, 1, 0)x(0, 0, 0, 12)12 - AIC:647.6678896496314\n",
      "ARIMA(0, 1, 0)x(0, 0, 1, 6)12 - AIC:569.0732841624875\n",
      "ARIMA(0, 1, 0)x(0, 0, 1, 12)12 - AIC:1509.0313475526857\n",
      "ARIMA(0, 1, 0)x(0, 1, 0, 6)12 - AIC:585.0027785708598\n",
      "ARIMA(0, 1, 0)x(0, 1, 0, 12)12 - AIC:437.0872507120172\n",
      "ARIMA(0, 1, 0)x(0, 1, 1, 6)12 - AIC:466.5937658957923\n",
      "ARIMA(0, 1, 0)x(1, 0, 0, 6)12 - AIC:581.0919005232884\n",
      "ARIMA(0, 1, 0)x(1, 0, 0, 12)12 - AIC:449.35248162993906\n",
      "ARIMA(0, 1, 0)x(1, 0, 1, 6)12 - AIC:553.2834473910706\n",
      "ARIMA(0, 1, 0)x(1, 0, 1, 12)12 - AIC:1028.3134422600065\n",
      "ARIMA(0, 1, 0)x(1, 1, 0, 6)12 - AIC:450.65304659937203\n",
      "ARIMA(0, 1, 0)x(1, 1, 0, 12)12 - AIC:283.47755191582365\n",
      "ARIMA(0, 1, 0)x(1, 1, 1, 6)12 - AIC:435.911258433816\n",
      "ARIMA(0, 1, 1)x(0, 0, 0, 6)12 - AIC:627.99573701071\n",
      "ARIMA(0, 1, 1)x(0, 0, 0, 12)12 - AIC:627.99573701071\n",
      "ARIMA(0, 1, 1)x(0, 0, 1, 6)12 - AIC:550.7299433914046\n",
      "ARIMA(0, 1, 1)x(0, 0, 1, 12)12 - AIC:3227.4367593656625\n",
      "ARIMA(0, 1, 1)x(0, 1, 0, 6)12 - AIC:568.4385101570357\n",
      "ARIMA(0, 1, 1)x(0, 1, 0, 12)12 - AIC:401.94832251607806\n",
      "ARIMA(0, 1, 1)x(0, 1, 1, 6)12 - AIC:450.45761895450767\n",
      "ARIMA(0, 1, 1)x(1, 0, 0, 6)12 - AIC:577.339355247779\n",
      "ARIMA(0, 1, 1)x(1, 0, 0, 12)12 - AIC:427.6728712350542\n",
      "ARIMA(0, 1, 1)x(1, 0, 1, 6)12 - AIC:538.4781309082257\n",
      "ARIMA(0, 1, 1)x(1, 0, 1, 12)12 - AIC:3031.6672711685865\n",
      "ARIMA(0, 1, 1)x(1, 1, 0, 6)12 - AIC:427.9052691946329\n",
      "ARIMA(0, 1, 1)x(1, 1, 0, 12)12 - AIC:278.7609965126701\n",
      "ARIMA(0, 1, 1)x(1, 1, 1, 6)12 - AIC:400.7864680243436\n",
      "ARIMA(1, 0, 0)x(0, 0, 0, 6)12 - AIC:661.9409024332922\n",
      "ARIMA(1, 0, 0)x(0, 0, 0, 12)12 - AIC:661.9409024332922\n",
      "ARIMA(1, 0, 0)x(0, 0, 1, 6)12 - AIC:583.1729442413836\n",
      "ARIMA(1, 0, 0)x(0, 0, 1, 12)12 - AIC:1694.1021159548372\n",
      "ARIMA(1, 0, 0)x(0, 1, 0, 6)12 - AIC:589.6933952803977\n",
      "ARIMA(1, 0, 0)x(0, 1, 0, 12)12 - AIC:434.8825822906408\n",
      "ARIMA(1, 0, 0)x(0, 1, 1, 6)12 - AIC:476.1879693803127\n",
      "ARIMA(1, 0, 0)x(1, 0, 0, 6)12 - AIC:581.6509326410851\n",
      "ARIMA(1, 0, 0)x(1, 0, 0, 12)12 - AIC:423.6135619693373\n",
      "ARIMA(1, 0, 0)x(1, 0, 1, 6)12 - AIC:559.7763274918185\n",
      "ARIMA(1, 0, 0)x(1, 0, 1, 12)12 - AIC:1296.9744689836195\n",
      "ARIMA(1, 0, 0)x(1, 1, 0, 6)12 - AIC:436.88253666865484\n",
      "ARIMA(1, 0, 0)x(1, 1, 0, 12)12 - AIC:283.3819337710358\n",
      "ARIMA(1, 0, 0)x(1, 1, 1, 6)12 - AIC:430.5031576719806\n",
      "ARIMA(1, 0, 1)x(0, 0, 0, 6)12 - AIC:644.0494480747102\n",
      "ARIMA(1, 0, 1)x(0, 0, 0, 12)12 - AIC:644.0494480747102\n",
      "ARIMA(1, 0, 1)x(0, 0, 1, 6)12 - AIC:566.8817844982391\n",
      "ARIMA(1, 0, 1)x(0, 0, 1, 12)12 - AIC:11759.229052214538\n",
      "ARIMA(1, 0, 1)x(0, 1, 0, 6)12 - AIC:577.9627681757931\n",
      "ARIMA(1, 0, 1)x(0, 1, 0, 12)12 - AIC:416.02643404184505\n",
      "ARIMA(1, 0, 1)x(0, 1, 1, 6)12 - AIC:464.5783433351886\n",
      "ARIMA(1, 0, 1)x(1, 0, 0, 6)12 - AIC:579.5088942157361\n",
      "ARIMA(1, 0, 1)x(1, 0, 0, 12)12 - AIC:423.7107834590481\n",
      "ARIMA(1, 0, 1)x(1, 0, 1, 6)12 - AIC:549.0257516086167\n",
      "ARIMA(1, 0, 1)x(1, 0, 1, 12)12 - AIC:2608.865868462308\n",
      "ARIMA(1, 0, 1)x(1, 1, 0, 6)12 - AIC:429.5515501134414\n",
      "ARIMA(1, 0, 1)x(1, 1, 0, 12)12 - AIC:279.11342119925143\n",
      "ARIMA(1, 0, 1)x(1, 1, 1, 6)12 - AIC:421.1432356519467\n",
      "ARIMA(1, 1, 0)x(0, 0, 0, 6)12 - AIC:644.9277606110047\n",
      "ARIMA(1, 1, 0)x(0, 0, 0, 12)12 - AIC:644.9277606110047\n",
      "ARIMA(1, 1, 0)x(0, 0, 1, 6)12 - AIC:567.3076037401113\n",
      "ARIMA(1, 1, 0)x(0, 0, 1, 12)12 - AIC:1618.5144793961276\n",
      "ARIMA(1, 1, 0)x(0, 1, 0, 6)12 - AIC:583.1265370900857\n",
      "ARIMA(1, 1, 0)x(0, 1, 0, 12)12 - AIC:425.61965391963025\n",
      "ARIMA(1, 1, 0)x(0, 1, 1, 6)12 - AIC:464.3049158780035\n",
      "ARIMA(1, 1, 0)x(1, 0, 0, 6)12 - AIC:566.2604723866694\n",
      "ARIMA(1, 1, 0)x(1, 0, 0, 12)12 - AIC:427.3909276879737\n",
      "ARIMA(1, 1, 0)x(1, 0, 1, 6)12 - AIC:552.082107017819\n",
      "ARIMA(1, 1, 0)x(1, 0, 1, 12)12 - AIC:1632.8539166064927\n",
      "ARIMA(1, 1, 0)x(1, 1, 0, 6)12 - AIC:427.19161556534095\n",
      "ARIMA(1, 1, 0)x(1, 1, 0, 12)12 - AIC:268.4476447033589\n",
      "ARIMA(1, 1, 0)x(1, 1, 1, 6)12 - AIC:423.7354871479635\n",
      "ARIMA(1, 1, 1)x(0, 0, 0, 6)12 - AIC:627.06433018222\n",
      "ARIMA(1, 1, 1)x(0, 0, 0, 12)12 - AIC:627.06433018222\n",
      "ARIMA(1, 1, 1)x(0, 0, 1, 6)12 - AIC:549.9618350594899\n",
      "ARIMA(1, 1, 1)x(0, 0, 1, 12)12 - AIC:2569.787397616762\n",
      "ARIMA(1, 1, 1)x(0, 1, 0, 6)12 - AIC:566.2732237050798\n",
      "ARIMA(1, 1, 1)x(0, 1, 0, 12)12 - AIC:403.4331536559329\n",
      "ARIMA(1, 1, 1)x(0, 1, 1, 6)12 - AIC:451.06588381932977\n",
      "ARIMA(1, 1, 1)x(1, 0, 0, 6)12 - AIC:563.5156048536364\n",
      "ARIMA(1, 1, 1)x(1, 0, 0, 12)12 - AIC:417.23164098219627\n",
      "ARIMA(1, 1, 1)x(1, 0, 1, 6)12 - AIC:538.7525337518726\n",
      "ARIMA(1, 1, 1)x(1, 0, 1, 12)12 - AIC:2362.8916138854242\n",
      "ARIMA(1, 1, 1)x(1, 1, 0, 6)12 - AIC:417.5676930383665\n",
      "ARIMA(1, 1, 1)x(1, 1, 0, 12)12 - AIC:268.0453318316073\n",
      "ARIMA(1, 1, 1)x(1, 1, 1, 6)12 - AIC:407.9501563819879\n"
     ]
    }
   ],
   "source": [
    "warnings.filterwarnings(\"ignore\") # specify to ignore warning messages\n",
    "\n",
    "for param in pdq:\n",
    "    for param_seasonal in seasonal_pdq:\n",
    "        try:\n",
    "            mod = sm.tsa.statespace.SARIMAX(Furniture,\n",
    "                                            order=param,\n",
    "                                            seasonal_order=param_seasonal,\n",
    "                                            enforce_stationarity=False,\n",
    "                                            enforce_invertibility=False)\n",
    "\n",
    "            results = mod.fit()\n",
    "\n",
    "            print('ARIMA{}x{}12 - AIC:{}'.format(param, param_seasonal, results.aic))\n",
    "        except:\n",
    "            continue"
   ]
  },
  {
   "cell_type": "markdown",
   "metadata": {},
   "source": [
    "#### Fitting an ARIMA Time Series Model after selecting the appropriate parameter for the model "
   ]
  },
  {
   "cell_type": "code",
   "execution_count": 32,
   "metadata": {},
   "outputs": [
    {
     "name": "stdout",
     "output_type": "stream",
     "text": [
      "==============================================================================\n",
      "                 coef    std err          z      P>|z|      [0.025      0.975]\n",
      "------------------------------------------------------------------------------\n",
      "sigma2      1.378e+04   3644.705      3.781      0.000    6638.493    2.09e+04\n",
      "==============================================================================\n"
     ]
    }
   ],
   "source": [
    "mod = sm.tsa.statespace.SARIMAX(Furniture,\n",
    "                                order=(0, 0, 0),\n",
    "                                seasonal_order=(0, 1, 0, 12),\n",
    "                                enforce_stationarity=False,\n",
    "                                enforce_invertibility=False)\n",
    "results = mod.fit()\n",
    "print(results.summary().tables[1])"
   ]
  },
  {
   "cell_type": "markdown",
   "metadata": {},
   "source": [
    "#### Validating Forecasts for the year 2017\n",
    "##### Actual vs forecasted"
   ]
  },
  {
   "cell_type": "code",
   "execution_count": 33,
   "metadata": {},
   "outputs": [
    {
     "data": {
      "image/png": "[encoded data removed]",
      "text/plain": [
       "<Figure size 1008x504 with 1 Axes>"
      ]
     },
     "metadata": {
      "needs_background": "light"
     },
     "output_type": "display_data"
    }
   ],
   "source": [
    "pred = results.get_prediction(start=pd.to_datetime('2017-01-01'), dynamic=False)\n",
    "pred_ci = pred.conf_int()\n",
    "ax = Furniture['2014':].plot(label='observed')\n",
    "pred.predicted_mean.plot(ax=ax, label='One-step ahead Forecast', alpha=.7, figsize=(14, 7))\n",
    "ax.fill_between(pred_ci.index,\n",
    "                pred_ci.iloc[:, 0],\n",
    "                pred_ci.iloc[:, 1], color='k', alpha=.2)\n",
    "ax.set_xlabel('BillDate')\n",
    "ax.set_ylabel('TotalQuantity')\n",
    "plt.legend()\n",
    "plt.show()"
   ]
  },
  {
   "cell_type": "markdown",
   "metadata": {},
   "source": [
    "#### Calculating the RMSE  "
   ]
  },
  {
   "cell_type": "code",
   "execution_count": 34,
   "metadata": {},
   "outputs": [
    {
     "name": "stdout",
     "output_type": "stream",
     "text": [
      "The Mean Squared Error of our forecasts is 11167.5\n"
     ]
    }
   ],
   "source": [
    "y_forecasted = pred.predicted_mean\n",
    "y_truth = Furniture['2017-01-01':]\n",
    "mse = ((y_forecasted - y_truth) ** 2).mean()\n",
    "print('The Mean Squared Error of our forecasts is {}'.format(round(mse, 2)))"
   ]
  },
  {
   "cell_type": "markdown",
   "metadata": {},
   "source": [
    "#### Calculating the rmse"
   ]
  },
  {
   "cell_type": "code",
   "execution_count": 35,
   "metadata": {},
   "outputs": [
    {
     "data": {
      "text/plain": [
       "105.67639282261672"
      ]
     },
     "execution_count": 35,
     "metadata": {},
     "output_type": "execute_result"
    }
   ],
   "source": [
    "rmse = sqrt(mse)\n",
    "rmse"
   ]
  },
  {
   "cell_type": "markdown",
   "metadata": {},
   "source": [
    "#### Forecasting for the year 2017 and comparing it with the actual values"
   ]
  },
  {
   "cell_type": "code",
   "execution_count": 36,
   "metadata": {
    "scrolled": false
   },
   "outputs": [
    {
     "data": {
      "text/plain": [
       "BillDate\n",
       "2017-01-01     303.0\n",
       "2017-02-01     207.0\n",
       "2017-03-01     486.0\n",
       "2017-04-01     438.0\n",
       "2017-05-01     543.0\n",
       "2017-06-01     384.0\n",
       "2017-07-01     477.0\n",
       "2017-08-01     345.0\n",
       "2017-09-01     852.0\n",
       "2017-10-01     561.0\n",
       "2017-11-01     954.0\n",
       "2017-12-01    1029.0\n",
       "Freq: MS, dtype: float64"
      ]
     },
     "execution_count": 36,
     "metadata": {},
     "output_type": "execute_result"
    }
   ],
   "source": [
    "y_forecasted"
   ]
  },
  {
   "cell_type": "code",
   "execution_count": 37,
   "metadata": {},
   "outputs": [
    {
     "data": {
      "text/plain": [
       "BillDate\n",
       "2017-01-01     258\n",
       "2017-02-01     213\n",
       "2017-03-01     369\n",
       "2017-04-01     525\n",
       "2017-05-01     552\n",
       "2017-06-01     528\n",
       "2017-07-01     549\n",
       "2017-08-01     381\n",
       "2017-09-01     906\n",
       "2017-10-01     756\n",
       "2017-11-01    1092\n",
       "2017-12-01    1182\n",
       "Freq: MS, Name: Quantity, dtype: int64"
      ]
     },
     "execution_count": 37,
     "metadata": {},
     "output_type": "execute_result"
    }
   ],
   "source": [
    "y_truth"
   ]
  },
  {
   "cell_type": "markdown",
   "metadata": {},
   "source": [
    "#### Producing and Visualizing Actual quantity and forecasted quantity"
   ]
  },
  {
   "cell_type": "code",
   "execution_count": 38,
   "metadata": {
    "scrolled": true
   },
   "outputs": [
    {
     "data": {
      "image/png": "[encoded data removed]",
      "text/plain": [
       "<Figure size 1008x504 with 1 Axes>"
      ]
     },
     "metadata": {
      "needs_background": "light"
     },
     "output_type": "display_data"
    }
   ],
   "source": [
    "pred_uc = results.get_forecast(steps=20)\n",
    "pred_ci = pred_uc.conf_int()\n",
    "ax = Furniture.plot(label='observed', figsize=(14, 7))\n",
    "pred_uc.predicted_mean.plot(ax=ax, label='Forecast')\n",
    "ax.fill_between(pred_ci.index,\n",
    "                pred_ci.iloc[:, 0],\n",
    "                pred_ci.iloc[:, 1], color='k', alpha=.25)\n",
    "ax.set_xlabel('BillDate')\n",
    "ax.set_ylabel('TotalQuantity')\n",
    "plt.legend()\n",
    "plt.show()"
   ]
  },
  {
   "cell_type": "markdown",
   "metadata": {},
   "source": [
    "#### Using the model to forecast for the next 6 months "
   ]
  },
  {
   "cell_type": "code",
   "execution_count": 39,
   "metadata": {
    "scrolled": false
   },
   "outputs": [
    {
     "name": "stdout",
     "output_type": "stream",
     "text": [
      "2018-01-01    258.0\n",
      "2018-02-01    213.0\n",
      "2018-03-01    369.0\n",
      "2018-04-01    525.0\n",
      "2018-05-01    552.0\n",
      "2018-06-01    528.0\n",
      "Freq: MS, dtype: float64\n"
     ]
    }
   ],
   "source": [
    "forecast = results.predict(start=48, end=53) \n",
    "print (forecast)"
   ]
  },
  {
   "cell_type": "code",
   "execution_count": 40,
   "metadata": {},
   "outputs": [
    {
     "data": {
      "text/plain": [
       "2018-01-01    258.0\n",
       "2018-02-01    213.0\n",
       "2018-03-01    369.0\n",
       "2018-04-01    525.0\n",
       "2018-05-01    552.0\n",
       "2018-06-01    528.0\n",
       "Freq: MS, dtype: float64"
      ]
     },
     "execution_count": 40,
     "metadata": {},
     "output_type": "execute_result"
    }
   ],
   "source": [
    "forecast"
   ]
  },
  {
   "cell_type": "markdown",
   "metadata": {},
   "source": [
    "#### Writing the prediction to csv file "
   ]
  },
  {
   "cell_type": "code",
   "execution_count": 41,
   "metadata": {},
   "outputs": [],
   "source": [
    "# forecast.to_csv('prediction6.csv', index=False, sep=',')"
   ]
  }
 ],
 "metadata": {
  "kernelspec": {
   "display_name": "Python 3",
   "language": "python",
   "name": "python3"
  },
  "language_info": {
   "codemirror_mode": {
    "name": "ipython",
    "version": 3
   },
   "file_extension": ".py",
   "mimetype": "text/x-python",
   "name": "python",
   "nbconvert_exporter": "python",
   "pygments_lexer": "ipython3",
   "version": "3.6.8"
  }
 },
 "nbformat": 4,
 "nbformat_minor": 2
}
